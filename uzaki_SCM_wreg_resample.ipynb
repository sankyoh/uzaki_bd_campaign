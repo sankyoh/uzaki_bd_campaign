{
 "cells": [
  {
   "cell_type": "markdown",
   "metadata": {},
   "source": [
    "# Synthetic Control Method with regression weight, bootstrapped resample"
   ]
  },
  {
   "cell_type": "markdown",
   "metadata": {},
   "source": [
    "## Import pandas, numpy, and random"
   ]
  },
  {
   "cell_type": "code",
   "execution_count": 1,
   "metadata": {},
   "outputs": [],
   "source": [
    "import pandas as pd\n",
    "import numpy as np\n",
    "import random\n",
    "random.seed(12345)"
   ]
  },
  {
   "cell_type": "markdown",
   "metadata": {},
   "source": [
    "## Read dataset"
   ]
  },
  {
   "cell_type": "code",
   "execution_count": 2,
   "metadata": {},
   "outputs": [],
   "source": [
    "df = pd.read_excel('Dataset_SCMuzaki.xls', index_col=1)"
   ]
  },
  {
   "cell_type": "markdown",
   "metadata": {},
   "source": [
    "## Extracting Kanto region data"
   ]
  },
  {
   "cell_type": "code",
   "execution_count": 3,
   "metadata": {},
   "outputs": [],
   "source": [
    "mat_x1 = np.matrix(df[df.id==48].loc[:,'pop15to64':'n11'].values.tolist()).T\n",
    "mat_x1  = np.insert(mat_x1,0,1,axis=0)\n",
    "mat_y1 = np.matrix(df[df.id==48].loc[:,'n12'].values.tolist()).T\n",
    "iota   = np.matrix(np.ones(30),dtype=float).T"
   ]
  },
  {
   "cell_type": "markdown",
   "metadata": {},
   "source": [
    "## Create a DataFrame outside the Kanto region."
   ]
  },
  {
   "cell_type": "code",
   "execution_count": 4,
   "metadata": {},
   "outputs": [],
   "source": [
    "df_cntl = df[df.intv==0].loc[:,'pop15to64':'n12']"
   ]
  },
  {
   "cell_type": "markdown",
   "metadata": {},
   "source": [
    "## Extract 30 prefectures from the control pool DataFrame.\n",
    "Analyze the 30 prefectures extracted as a control group<BR>\n",
    "Repetition = 1000 times"
   ]
  },
  {
   "cell_type": "code",
   "execution_count": 5,
   "metadata": {},
   "outputs": [],
   "source": [
    "results_att = []\n",
    "for x in range(0,1000):\n",
    "    rand = random.randrange(10000)\n",
    "    sample_test  = df_cntl.sample(n=30, random_state=rand)\n",
    "    mat_x0 = np.matrix(sample_test.loc[:,'pop15to64':'n11'].values.tolist()).T\n",
    "    mat_x0 = np.insert(mat_x0,0,1,axis=0)\n",
    "    mat_y0 = np.matrix(sample_test.loc[:,'n12'].values.tolist()).T\n",
    "    \n",
    "    # Calculate w_reg\n",
    "    w_reg  = np.dot(np.dot(mat_x0.T,np.linalg.inv(np.dot(mat_x0,mat_x0.T))),mat_x1)\n",
    "    \n",
    "    # Check sum_of_weight = 1\n",
    "    sum_of_weight = np.dot(iota.T,w_reg)\n",
    "    if sum_of_weight - 1 > 0.001:\n",
    "        print('Caution! sum_of_weight is not 1')\n",
    "        continue    \n",
    "    \n",
    "    # Check RMSPE = 0\n",
    "    temp_rmspe = 0\n",
    "    for i in range(1,13):\n",
    "        temp = 0\n",
    "        for j in range(0,30):\n",
    "            temp += w_reg[j]*mat_x0.T[j,i]\n",
    "        temp_rmspe += (mat_x1[i]-temp)**2\n",
    "    rmspe = np.sqrt(temp_rmspe/13)\n",
    "    if rmspe > 0.0001:\n",
    "        print('Caution! rmspe > 0.0001', rmspe)\n",
    "        continue\n",
    "    \n",
    "    # Calculate and store ATT \n",
    "    syn_cntr_y = np.dot(mat_y0.T,w_reg)\n",
    "    ATT = mat_y1 - syn_cntr_y\n",
    "    results_att.append(float(ATT))\n",
    "    "
   ]
  },
  {
   "cell_type": "markdown",
   "metadata": {},
   "source": [
    "## Calculate the 2.5th, 50th, and 97.5th percentile of ATT"
   ]
  },
  {
   "cell_type": "code",
   "execution_count": 6,
   "metadata": {},
   "outputs": [
    {
     "name": "stdout",
     "output_type": "stream",
     "text": [
      "                0\n",
      "0.025 -157.007322\n",
      "0.500   83.419375\n",
      "0.975  324.917967\n"
     ]
    }
   ],
   "source": [
    "df_results_att = pd.DataFrame(results_att)\n",
    "print(df_results_att.quantile([0.025, 0.50, 0.975]))\n",
    "df_results_att.to_excel('SCM_Wreg_results_att.xlsx', sheet_name='result')"
   ]
  }
 ],
 "metadata": {
  "kernelspec": {
   "display_name": "Python 3",
   "language": "python",
   "name": "python3"
  },
  "language_info": {
   "codemirror_mode": {
    "name": "ipython",
    "version": 3
   },
   "file_extension": ".py",
   "mimetype": "text/x-python",
   "name": "python",
   "nbconvert_exporter": "python",
   "pygments_lexer": "ipython3",
   "version": "3.7.1"
  }
 },
 "nbformat": 4,
 "nbformat_minor": 2
}
