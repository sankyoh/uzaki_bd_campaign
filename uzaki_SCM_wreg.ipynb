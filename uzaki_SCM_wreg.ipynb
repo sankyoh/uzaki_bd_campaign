{
 "cells": [
  {
   "cell_type": "markdown",
   "metadata": {},
   "source": [
    "# Synthetic Control Method with regression weight"
   ]
  },
  {
   "cell_type": "markdown",
   "metadata": {},
   "source": [
    "## Import pandas, numpy"
   ]
  },
  {
   "cell_type": "code",
   "execution_count": 1,
   "metadata": {},
   "outputs": [],
   "source": [
    "import pandas as pd\n",
    "import numpy as np"
   ]
  },
  {
   "cell_type": "markdown",
   "metadata": {},
   "source": [
    "## Read dataset"
   ]
  },
  {
   "cell_type": "code",
   "execution_count": 2,
   "metadata": {},
   "outputs": [],
   "source": [
    "df = pd.read_excel('Dataset_SCMuzaki.xls', index_col=1)"
   ]
  },
  {
   "cell_type": "markdown",
   "metadata": {},
   "source": [
    "## Define matrix"
   ]
  },
  {
   "cell_type": "code",
   "execution_count": 3,
   "metadata": {},
   "outputs": [],
   "source": [
    "# Kanto region (Intervention group)\n",
    "mat_x1 = np.matrix(df[df.id==48].loc[:,'pop15to64':'n11'].values.tolist()).T\n",
    "mat_x1  = np.insert(mat_x1,0,1,axis=0)\n",
    "mat_y1 = np.matrix(df[df.id==48].loc[:,'n12'].values.tolist()).T\n",
    "\n",
    "# Other prefecture (Control pool)\n",
    "mat_x0 = np.matrix(df[df.intv==0].loc[:,'pop15to64':'n11'].values.tolist()).T\n",
    "mat_x0  = np.insert(mat_x0,0,1,axis=0)\n",
    "mat_y0 = np.matrix(df[df.intv==0].loc[:,'n12'].values.tolist()).T\n",
    "\n",
    "# Other matrix\n",
    "iota   = np.matrix(np.ones(36),dtype=float).T"
   ]
  },
  {
   "cell_type": "markdown",
   "metadata": {},
   "source": [
    "## Calculate and store w_reg "
   ]
  },
  {
   "cell_type": "code",
   "execution_count": 4,
   "metadata": {},
   "outputs": [],
   "source": [
    "w_reg  = np.dot(np.dot(mat_x0.T,np.linalg.inv(np.dot(mat_x0,mat_x0.T))),mat_x1)\n",
    "np.savetxt(\"w_reg.csv\", w_reg, delimiter=\",\")"
   ]
  },
  {
   "cell_type": "markdown",
   "metadata": {},
   "source": [
    "## Check sum_of_wight = 1"
   ]
  },
  {
   "cell_type": "code",
   "execution_count": 5,
   "metadata": {},
   "outputs": [
    {
     "name": "stdout",
     "output_type": "stream",
     "text": [
      "sum_of_weight =  [[1.]]\n"
     ]
    }
   ],
   "source": [
    "sum_of_weight = np.dot(iota.T,w_reg)\n",
    "print('sum_of_weight = ', sum_of_weight)"
   ]
  },
  {
   "cell_type": "markdown",
   "metadata": {},
   "source": [
    "## Calculate pre-intervention values of synthetic control"
   ]
  },
  {
   "cell_type": "code",
   "execution_count": 6,
   "metadata": {},
   "outputs": [
    {
     "name": "stdout",
     "output_type": "stream",
     "text": [
      "Synthetic Control of Pre_trt\n",
      " [[1.00000000e+00]\n",
      " [3.87600000e+03]\n",
      " [1.17291429e+04]\n",
      " [1.25427143e+04]\n",
      " [1.12622857e+04]\n",
      " [1.24384286e+04]\n",
      " [1.20997143e+04]\n",
      " [1.20430000e+04]\n",
      " [1.31614286e+04]\n",
      " [1.21047143e+04]\n",
      " [1.28855714e+04]\n",
      " [1.23164286e+04]\n",
      " [1.27762857e+04]\n",
      " [1.24132857e+04]]\n"
     ]
    }
   ],
   "source": [
    "syn_cntr_x = np.dot(mat_x0,w_reg)\n",
    "print('Synthetic Control of Pre_trt\\n', syn_cntr_x)"
   ]
  },
  {
   "cell_type": "markdown",
   "metadata": {},
   "source": [
    "## Calculate RMSPE"
   ]
  },
  {
   "cell_type": "code",
   "execution_count": 7,
   "metadata": {},
   "outputs": [
    {
     "name": "stdout",
     "output_type": "stream",
     "text": [
      "RMSPE =  [[4.54161337e-08]]\n"
     ]
    }
   ],
   "source": [
    "temp_rmspe = 0\n",
    "for i in range(1,13):\n",
    "    temp = 0\n",
    "    for j in range(0,36):\n",
    "        temp += w_reg[j]*mat_x0.T[j,i]\n",
    "    temp_rmspe += (mat_x1[i]-temp)**2\n",
    "rmspe = np.sqrt(temp_rmspe/13)\n",
    "print('RMSPE = ',rmspe)"
   ]
  },
  {
   "cell_type": "markdown",
   "metadata": {},
   "source": [
    "## Calculate post-intervention value of synthetic control"
   ]
  },
  {
   "cell_type": "code",
   "execution_count": 8,
   "metadata": {},
   "outputs": [
    {
     "name": "stdout",
     "output_type": "stream",
     "text": [
      "Synthetic Control of Post_trt\n",
      " [[12088.53796266]]\n"
     ]
    }
   ],
   "source": [
    "syn_cntr_y = np.dot(mat_y0.T,w_reg)\n",
    "print('Synthetic Control of Post_trt\\n', syn_cntr_y)"
   ]
  },
  {
   "cell_type": "markdown",
   "metadata": {},
   "source": [
    "## Calculate ATT"
   ]
  },
  {
   "cell_type": "code",
   "execution_count": 9,
   "metadata": {},
   "outputs": [
    {
     "name": "stdout",
     "output_type": "stream",
     "text": [
      "Average Treatment effect on Treated =  [[78.03346591]]\n"
     ]
    }
   ],
   "source": [
    "ATT = mat_y1 - syn_cntr_y\n",
    "print('Average Treatment effect on Treated = ', ATT)"
   ]
  }
 ],
 "metadata": {
  "kernelspec": {
   "display_name": "Python 3",
   "language": "python",
   "name": "python3"
  },
  "language_info": {
   "codemirror_mode": {
    "name": "ipython",
    "version": 3
   },
   "file_extension": ".py",
   "mimetype": "text/x-python",
   "name": "python",
   "nbconvert_exporter": "python",
   "pygments_lexer": "ipython3",
   "version": "3.7.1"
  }
 },
 "nbformat": 4,
 "nbformat_minor": 2
}
